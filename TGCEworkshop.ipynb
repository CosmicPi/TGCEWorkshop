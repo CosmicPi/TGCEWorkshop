{
 "cells": [
  {
   "cell_type": "markdown",
   "id": "910bd767-95ab-4b5e-ae2f-7b48bad020a6",
   "metadata": {},
   "source": [
    "# Cosmic Pi Data Analysis examples\n",
    "This is a Jupyter Notebook, written in Python.\n",
    "It runs on a remote server. \n",
    "You can fully control the analysis from your web browser.\n",
    "We're only going to scratch the surface of the data today, but let's get started!"
   ]
  },
  {
   "cell_type": "code",
   "execution_count": null,
   "id": "df96a0e6-6c82-47dd-b2c7-fa44e0a29257",
   "metadata": {},
   "outputs": [],
   "source": [
    "#let's check this thing works!\n",
    "print(\"hello world\")"
   ]
  },
  {
   "cell_type": "markdown",
   "id": "9d568ab5-bab9-457b-b40c-e007d4023cce",
   "metadata": {},
   "source": [
    "If you can see the text \"hello world\" printed out above, then your system is working! Now let's check which version of the Python interpreter you are using.\n",
    "Some older software uses Python 2, but we should be using Python 3 for this example."
   ]
  },
  {
   "cell_type": "code",
   "execution_count": null,
   "id": "924aae07-c18f-490d-9caa-84724578416f",
   "metadata": {},
   "outputs": [],
   "source": [
    "#check our python version, it should be 3.10.10\n",
    "from platform import python_version\n",
    "print(python_version())"
   ]
  },
  {
   "cell_type": "markdown",
   "id": "f42988c0-6b47-48c3-b8a5-9cb257c837f4",
   "metadata": {},
   "source": [
    "If it says 3.10.10 above, you are running the right version!\n",
    "Now we can connect to the database which holds all the Cosmic Pi data from our server.\n",
    "First we load the library which has all the connection commands:"
   ]
  },
  {
   "cell_type": "code",
   "execution_count": null,
   "id": "bb2edf52-b34a-49fc-9902-52c7e03946cf",
   "metadata": {},
   "outputs": [],
   "source": [
    "#load the database communication module\n",
    "from influxdb import InfluxDBClient"
   ]
  },
  {
   "cell_type": "markdown",
   "id": "346daeb0-54ab-48a8-9ab4-926d70ba05d2",
   "metadata": {},
   "source": [
    "And now we can open a connection. This is like opening a webpage, but we can ask it to provide us with information from the database by asking a question (query)."
   ]
  },
  {
   "cell_type": "code",
   "execution_count": null,
   "id": "f066e181-9845-4d7b-9573-31003be378fa",
   "metadata": {},
   "outputs": [],
   "source": [
    "#connect to the database of events\n",
    "client = InfluxDBClient(host='localhost', port=8086, database='cosmicpiglobal')\n"
   ]
  },
  {
   "cell_type": "markdown",
   "id": "5e47d4af-fa2f-4e59-bfbc-1b3da0572b83",
   "metadata": {},
   "source": [
    "To process our data, we will need some additional libraries. First we load them (import) and then we can use the functions they contain."
   ]
  },
  {
   "cell_type": "code",
   "execution_count": null,
   "id": "9d2cc0d4-14e4-493a-8c72-0ca5ef3d9a5e",
   "metadata": {},
   "outputs": [],
   "source": [
    "#load the datetime module and import functionality from the host OS\n",
    "from datetime import datetime\n",
    "import os\n",
    "import argparse\n",
    "import json\n",
    "import pandas as pd\n",
    "import matplotlib.pyplot as plt"
   ]
  },
  {
   "cell_type": "markdown",
   "id": "35c44e04-361c-4869-a5e2-e7fdfcb24903",
   "metadata": {},
   "source": [
    "Let's get started asking some questions! First, we can ask a simple one about how many detectors we have registered in the database.\n",
    "We ask for the 'tag' values, which are the detector ID's, from the CosmicPiV1.8.1 measurement table.\n",
    "We tell the database to return them in ascending order, with a maximum of 100 detectors."
   ]
  },
  {
   "cell_type": "code",
   "execution_count": null,
   "id": "aeb3ba59-0294-48cf-adc5-4bafe7b65c26",
   "metadata": {},
   "outputs": [],
   "source": [
    "query = 'show tag values from \\\"CosmicPiV1.8.1\\\" with key=\\\"id\\\" ORDER BY ASC LIMIT 100'"
   ]
  },
  {
   "cell_type": "code",
   "execution_count": null,
   "id": "693c181f-2c81-4846-a964-0584b0ad7b5f",
   "metadata": {},
   "outputs": [],
   "source": [
    "print(\"Querying data: \" + query)\n",
    "result = client.query(query)\n",
    "print(\"Result: {0}\".format(result))"
   ]
  },
  {
   "cell_type": "markdown",
   "id": "7fc5f93a-68dd-448c-b44f-3524027379b7",
   "metadata": {},
   "source": [
    "The text above should say:\n",
    "Querying data: show tag values from \"CosmicPiV1.8.1\" with key=\"id\" ORDER BY ASC LIMIT 100\n",
    "Result: ResultSet({'('CosmicPiV1.8.1', None)': [{'key': 'id', 'value': '202481587201533'}, {'key': 'id', 'value': '202481593594661'}, {'key': 'id', 'value': '202481594491678'}, {'key': 'id', 'value': '202481596047885'}]})\n",
    "\n",
    "This means that we have 4 detectors! But only 2 made the journey to the North Pole.. what is going on?\n",
    "We give each detector a unique number, so we can tell which is which. However, the unique number actually comes from one of the circuit boards inside the detector. If we change that circuit board, we will end up with a different serial number.\n",
    "In fact, only 2 detectors went to the North Pole, but they both needed maintenance en-route and had to have the circuit board changed that gives them their ID. \n",
    "This is an illustration of 2 things:\n",
    "1) Data analysis can be complicated by lots of inconvenient real world things!\n",
    "2) We cannot do data analysis in a vacuum, we also need to know about what we are analysing!\n",
    "\n",
    "Now let's ask a more interesting question..."
   ]
  },
  {
   "cell_type": "code",
   "execution_count": null,
   "id": "dbb7d4d0-0e19-4d57-8c76-b274d062c9c0",
   "metadata": {},
   "outputs": [],
   "source": [
    "query_lat = \"SELECT \\\"lat\\\" FROM \\\"CosmicPiV1.8.1\\\" WHERE (\\\"id\\\"::tag = '202481593594661') ORDER BY DESC LIMIT 1\"\n",
    "query_lon = \"SELECT \\\"lon\\\" FROM \\\"CosmicPiV1.8.1\\\" WHERE (\\\"id\\\"::tag = '202481593594661') ORDER BY DESC LIMIT 1\""
   ]
  },
  {
   "cell_type": "markdown",
   "id": "115a2e8b-ade6-4aeb-a9e0-414501318e6f",
   "metadata": {},
   "source": [
    "The Nansen detector, now in the Fram museum, had the ID number of 202481593594661 when it was at the North Pole. \n",
    "We will ask the database what the last location of this device was!"
   ]
  },
  {
   "cell_type": "code",
   "execution_count": null,
   "id": "9cdeea8b-80da-4840-a889-574bbd972707",
   "metadata": {},
   "outputs": [],
   "source": [
    "print(\"Querying data: \" + query_lat + query_lon)\n",
    "result_lat = client.query(query_lat)\n",
    "result_lon = client.query(query_lon)\n",
    "print(\"Result: {0}\".format(result_lat))\n",
    "print(\"Result: {0}\".format(result_lon))"
   ]
  },
  {
   "cell_type": "markdown",
   "id": "0425e61a-5063-454b-8879-aaecddc925f1",
   "metadata": {},
   "source": [
    "Is the Nansen detector still at the North Pole? No... so how can we find data from when it was there?"
   ]
  },
  {
   "cell_type": "code",
   "execution_count": null,
   "id": "b1ca37c8-a608-4e66-817e-2a82b72bab82",
   "metadata": {},
   "outputs": [],
   "source": [
    "query_lat = \"SELECT \\\"lat\\\" FROM \\\"CosmicPiV1.8.1\\\" WHERE (\\\"id\\\"::tag = '202481593594661') ORDER BY ASC LIMIT 1\"\n",
    "query_lon = \"SELECT \\\"lon\\\" FROM \\\"CosmicPiV1.8.1\\\" WHERE (\\\"id\\\"::tag = '202481593594661') ORDER BY ASC LIMIT 1\""
   ]
  },
  {
   "cell_type": "code",
   "execution_count": null,
   "id": "237c793b-b3a5-4a24-8ea5-949ac4d680ce",
   "metadata": {},
   "outputs": [],
   "source": [
    "print(\"Querying data: \" + query_lat + query_lon)\n",
    "result_lat = client.query(query_lat)\n",
    "result_lon = client.query(query_lon)\n",
    "print(\"Result: {0}\".format(result_lat))\n",
    "print(\"Result: {0}\".format(result_lon))"
   ]
  },
  {
   "cell_type": "markdown",
   "id": "94056947-7ef8-4377-8a23-189bfc50cb82",
   "metadata": {},
   "source": [
    "We've found it! But... wait a minute, there's something funny about the date. It says 1st January 1970. That can't be right?\n",
    "Indeed, we are in the right place, but the wrong time! Did we invent a time machine? \n",
    "**Sadly not,** it's just that the computer clock wasn't yet set when this data came out of the detector!\n",
    "When the detector turns on for the first time, it takes a while to set the clock by reading the time via GPS satellites. \n",
    "So we need to know *a lot* about our detector in order to do a proper analysis.\n",
    "We also need to throw away any data which might have mistakes in it. Even in a professionally built detector, this happens.\n",
    "We can check what the earliest time our system can do is with the command below:"
   ]
  },
  {
   "cell_type": "code",
   "execution_count": null,
   "id": "a3651d56-145f-4da4-96c4-b36433f9550b",
   "metadata": {},
   "outputs": [],
   "source": [
    "datetime.fromtimestamp(0)"
   ]
  },
  {
   "cell_type": "markdown",
   "id": "05218709-3a91-4be9-817e-bc993145c81a",
   "metadata": {},
   "source": [
    "It's January 1970! But the expedition didn't leave New York until January 2024. So I'm afraid these data points need to go in the bin, even if they are in the right place.\n",
    "Let's try to find some useful data we can work with...\n",
    "We can ask the database what the frequency of Cosmic Rays detected was. The detector reports this every second, we will ask for the last ten minutes (600 seconds)."
   ]
  },
  {
   "cell_type": "code",
   "execution_count": null,
   "id": "22ff7aa4-b1fa-410c-a634-f2c9d6a82bf5",
   "metadata": {},
   "outputs": [],
   "source": [
    "query_evt = \"SELECT \\\"event_count\\\" FROM \\\"CosmicPiV1.8.1_freq\\\"  ORDER BY DESC LIMIT 600\"\n",
    "result_evt = client.query(query_evt)\n",
    "print(\"Result: {0}\".format(result_evt))"
   ]
  },
  {
   "cell_type": "markdown",
   "id": "f308c6dd-4dc0-466f-b98a-f3034029f895",
   "metadata": {},
   "source": [
    "Success!\n",
    "We have some data that looks good.\n",
    "But this block of text is enough to make you go cross eyed.\n",
    "Can we represent this data in a more user friendly way? How about as a graph...\n",
    "To do that we need to do a bit more coding. First, let's find out what type of data the big blurb of text above is... "
   ]
  },
  {
   "cell_type": "code",
   "execution_count": null,
   "id": "b2ca3494-3dcc-4c4b-b060-1e9d0ae6536f",
   "metadata": {},
   "outputs": [],
   "source": [
    "type(result_evt)"
   ]
  },
  {
   "cell_type": "markdown",
   "id": "3cf47ab6-1f84-4ad7-adc0-df9aa5316409",
   "metadata": {},
   "source": [
    "This is a results set from InfluxDB, the database we are using... that's not a lot of help, but with some googling, we can find code to make a graph and adapt it:"
   ]
  },
  {
   "cell_type": "code",
   "execution_count": null,
   "id": "6273c48a-9448-4b8f-9f48-10838d536f4e",
   "metadata": {},
   "outputs": [],
   "source": [
    "def plot_graph(response):\n",
    "    plt.figure(figsize=(10,10))\n",
    "    plt.xlabel('Date/Time')\n",
    "    plt.ylabel('# of Events')\n",
    "    plt.plot(response['time'], response['event_count'], marker='o')        \n",
    "    plt.show()\n",
    "\n",
    "column_titles = ['time','event_count']\n",
    "df = pd.DataFrame((result_evt.get_points()),columns=['event_count','time']).dropna()\n",
    "df_response = df.reindex(columns=column_titles) #Incase time is not first column. Setting time to be first column.\n",
    "df_response['time'] = pd.to_datetime(df_response['time'], format='%Y-%m-%dT%H:%M:%SZ')\n",
    "df_response['time'] = df_response['time'].dt.tz_localize('utc').dt.tz_convert('Europe/Paris') #Set to your local time.\n",
    "plot_graph(df_response)\n",
    "\n"
   ]
  },
  {
   "cell_type": "markdown",
   "id": "d4ecc5da-0501-4025-b4fb-fbe365b31c8d",
   "metadata": {},
   "source": [
    "**WOW** we made a graph just like that! But what does it show?\n",
    "We have the frequency of cosmic rays arriving over a 10 minute period. \n",
    "Can we make it clearer? Let's remove the 'o's and see..."
   ]
  },
  {
   "cell_type": "code",
   "execution_count": null,
   "id": "a62d8464-8986-4039-9386-5ad921092daa",
   "metadata": {},
   "outputs": [],
   "source": [
    "def plot_graph(response):\n",
    "    plt.figure(figsize=(20,10))\n",
    "    plt.xlabel('Date/Time')\n",
    "    plt.ylabel('# of Events')\n",
    "    plt.plot(response['time'], response['event_count'],)        \n",
    "    plt.show()\n",
    "\n",
    "column_titles = ['time','event_count']\n",
    "df = pd.DataFrame((result_evt.get_points()),columns=['event_count','time']).dropna()\n",
    "df_response = df.reindex(columns=column_titles) #Incase time is not first column. Setting time to be first column.\n",
    "df_response['time'] = pd.to_datetime(df_response['time'], format='%Y-%m-%dT%H:%M:%SZ')\n",
    "df_response['time'] = df_response['time'].dt.tz_localize('utc').dt.tz_convert('Europe/Paris') #Set to your local time.\n",
    "plot_graph(df_response)\n",
    "\n"
   ]
  },
  {
   "cell_type": "markdown",
   "id": "2ef6675f-cb31-4057-8c47-2ef19736c31d",
   "metadata": {},
   "source": [
    "That's better! Here we can see the events every second for 10 minutes. What does it tell us?\n",
    "They look random, and range from 0 to 9 per second. This is what we would expect.\n",
    "The arrival time of cosmic rays at our detector is random, since they are generated by a chaotic process.\n",
    "The rate of cosmic rays arriving at the surface of the earth is constrained (very approximately 1 muon per cm2 per minute).\n",
    "Our detector has an area of 200cm2, so we expect a mean of about 3.3 muons per second. \n",
    "What is the average of this data?"
   ]
  },
  {
   "cell_type": "code",
   "execution_count": null,
   "id": "fe95491c-a12c-4f76-9871-14c27eaf646d",
   "metadata": {},
   "outputs": [],
   "source": [
    "df_response['event_count'].mean()"
   ]
  },
  {
   "cell_type": "markdown",
   "id": "4ab4e90c-53d3-439d-991b-c048586a40f9",
   "metadata": {},
   "source": [
    "Not bad! But why isn't it 3.3?\n",
    "Again, to make a correct analysis, we need to know about our detector. \n",
    "No cosmic ray detector is perfect, there are always small defects which mean that we won't get the ideal response.\n",
    "How close are we to ideal?"
   ]
  },
  {
   "cell_type": "code",
   "execution_count": null,
   "id": "239add6f-710a-4664-9c18-bfb7c7b087c1",
   "metadata": {},
   "outputs": [],
   "source": [
    "efficiency_of_detector = 2.845/3.3\n",
    "print(efficiency_of_detector)"
   ]
  },
  {
   "cell_type": "markdown",
   "id": "b8fa2af6-df0f-4b47-9bd5-a22f3714dcab",
   "metadata": {},
   "source": [
    "**86%**, it isn't perfect, but I would be happy with that result in an exam. \n",
    "In practice, we've only looked at 10 minutes of data. We should look at more, but that will take longer and it's time for lunch!"
   ]
  },
  {
   "cell_type": "markdown",
   "id": "671d6431-b129-4f47-b61b-b951d4d2f61f",
   "metadata": {},
   "source": [
    "## Post script...\n",
    "What was the temperature of the detector?"
   ]
  },
  {
   "cell_type": "code",
   "execution_count": null,
   "id": "543938f4-cab6-4c20-be77-da07375dafcc",
   "metadata": {},
   "outputs": [],
   "source": [
    "query_temp_big = \"SELECT \\\"Temp\\\" FROM \\\"CosmicPiV1.8.1\\\" GROUP BY * ORDER BY DESC LIMIT 10000\""
   ]
  },
  {
   "cell_type": "code",
   "execution_count": null,
   "id": "548f9064-f7a2-4af7-a0de-553e3840100f",
   "metadata": {},
   "outputs": [],
   "source": [
    "print(\"Querying data: \" + query_temp_big)\n",
    "result_temp_big = client.query(query_temp_big)"
   ]
  },
  {
   "cell_type": "code",
   "execution_count": null,
   "id": "c407c694-96e2-403d-966b-f30d3c93c9bd",
   "metadata": {},
   "outputs": [],
   "source": [
    "def plot_big_graph(response):\n",
    "    plt.figure(figsize=(20,10))\n",
    "    plt.xlabel('Date/Time')\n",
    "    plt.ylabel('Temperature')\n",
    "    plt.scatter(response['time'], response['Temp'])        \n",
    "    plt.show()\n",
    "\n",
    "column_titles = ['time','Temp']\n",
    "df = pd.DataFrame((result_temp_big.get_points()),columns=['Temp','time']).dropna()\n",
    "df_response_big = df.reindex(columns=column_titles) #Incase time is not first column. Setting time to be first column.\n",
    "df_response_big['time'] = pd.to_datetime(df_response_big['time'], format='%Y-%m-%dT%H:%M:%S.%fZ')\n",
    "df_response_big['time'] = df_response_big['time'].dt.tz_localize('utc').dt.tz_convert('Europe/Paris') #Set to your local time.\n",
    "plot_big_graph(df_response_big)\n",
    "\n"
   ]
  },
  {
   "cell_type": "markdown",
   "id": "4db155fb-089c-40ba-a833-2a6a080a049f",
   "metadata": {},
   "source": [
    "Not bad! From below freezing all the way up to about 34C. There are still some data points from 1970 that we need to clean up, but that will need another workshop."
   ]
  }
 ],
 "metadata": {
  "kernelspec": {
   "display_name": "Python 3 (ipykernel)",
   "language": "python",
   "name": "python3"
  },
  "language_info": {
   "codemirror_mode": {
    "name": "ipython",
    "version": 3
   },
   "file_extension": ".py",
   "mimetype": "text/x-python",
   "name": "python",
   "nbconvert_exporter": "python",
   "pygments_lexer": "ipython3",
   "version": "3.10.10"
  }
 },
 "nbformat": 4,
 "nbformat_minor": 5
}
